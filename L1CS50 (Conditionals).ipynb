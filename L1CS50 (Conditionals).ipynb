{
 "cells": [
  {
   "cell_type": "markdown",
   "id": "14f3d4a2",
   "metadata": {},
   "source": [
    "# CS50's Introduction to Programming with Python\n",
    "Lecture 1 (Conditionals) \n",
    "Date: 22 August 2022 (Completed)"
   ]
  },
  {
   "cell_type": "code",
   "execution_count": 1,
   "id": "b850b99b",
   "metadata": {},
   "outputs": [],
   "source": [
    "# > more than \n",
    "# >= more than or equal to \n",
    "# < less than \n",
    "# <= less than or equal to\n",
    "# == equal to \n",
    "# != not equal to "
   ]
  },
  {
   "cell_type": "markdown",
   "id": "79e7dc9a",
   "metadata": {},
   "source": [
    "### Boolean (if function) "
   ]
  },
  {
   "cell_type": "code",
   "execution_count": 2,
   "id": "5228a9bc",
   "metadata": {},
   "outputs": [
    {
     "name": "stdout",
     "output_type": "stream",
     "text": [
      "whats x? 1\n",
      "whats y? 1\n",
      "x is equal to y\n"
     ]
    }
   ],
   "source": [
    "x = int(input('whats x? '))\n",
    "y = int(input('whats y? '))\n",
    "\n",
    "#boolean , yes and no. logical flow \n",
    "if x < y:\n",
    "    print('x is less than y')\n",
    "if x > y:\n",
    "    print('x is more than y')\n",
    "if x == y:\n",
    "    print('x is equal to y')"
   ]
  },
  {
   "cell_type": "code",
   "execution_count": 3,
   "id": "a49066c4",
   "metadata": {},
   "outputs": [
    {
     "name": "stdout",
     "output_type": "stream",
     "text": [
      "whats x? 1\n",
      "whats y? 1\n",
      "x is equal to y\n"
     ]
    }
   ],
   "source": [
    "x = int(input('whats x? '))\n",
    "y = int(input('whats y? '))\n",
    "\n",
    "# else-if (elif function)\n",
    "# making the code mutually exclusive \n",
    "\n",
    "if x < y:\n",
    "    print('x is less than y')\n",
    "elif x > y:\n",
    "    print('x is more than y')\n",
    "elif x == y:\n",
    "    print('x is equal to y')"
   ]
  },
  {
   "cell_type": "code",
   "execution_count": 4,
   "id": "ac08d3ad",
   "metadata": {},
   "outputs": [
    {
     "name": "stdout",
     "output_type": "stream",
     "text": [
      "whats x? 1\n",
      "whats y? 1\n",
      "x is equal to y\n"
     ]
    }
   ],
   "source": [
    "x = int(input('whats x? '))\n",
    "y = int(input('whats y? '))\n",
    "\n",
    "# else function \n",
    "if x < y:\n",
    "    print('x is less than y')\n",
    "elif x > y:\n",
    "    print('x is more than y')\n",
    "else:\n",
    "    print('x is equal to y')"
   ]
  },
  {
   "cell_type": "markdown",
   "id": "87e4edeb",
   "metadata": {},
   "source": [
    "### or function "
   ]
  },
  {
   "cell_type": "code",
   "execution_count": 5,
   "id": "4d2da9a8",
   "metadata": {},
   "outputs": [
    {
     "name": "stdout",
     "output_type": "stream",
     "text": [
      "whats x? 1\n",
      "whats y? 1\n",
      "x is equal to y\n"
     ]
    }
   ],
   "source": [
    "x = int(input('whats x? '))\n",
    "y = int(input('whats y? '))\n",
    "\n",
    "# or function \n",
    "if x < y or x > y:\n",
    "    print('x is not equal to y')\n",
    "else: \n",
    "    print('x is equal to y')"
   ]
  },
  {
   "cell_type": "code",
   "execution_count": 6,
   "id": "ffc65656",
   "metadata": {},
   "outputs": [
    {
     "name": "stdout",
     "output_type": "stream",
     "text": [
      "whats x? 1\n",
      "whats y? 1\n",
      "x is equal to y\n"
     ]
    }
   ],
   "source": [
    "x = int(input('whats x? '))\n",
    "y = int(input('whats y? '))\n",
    "\n",
    "# capture simplification of the program\n",
    "if x != y:\n",
    "    print('x is not equal to y')\n",
    "else: \n",
    "    print('x is equal to y')"
   ]
  },
  {
   "cell_type": "markdown",
   "id": "2c336300",
   "metadata": {},
   "source": [
    "### Conditional statement with (and function)"
   ]
  },
  {
   "cell_type": "code",
   "execution_count": 7,
   "id": "56a522f7",
   "metadata": {},
   "outputs": [
    {
     "name": "stdout",
     "output_type": "stream",
     "text": [
      "Score: 1\n",
      "Grade F\n"
     ]
    }
   ],
   "source": [
    "# using and function\n",
    "score = int(input('Score: '))\n",
    "if score >= 90 and score <= 100: \n",
    "    print('Grade A')\n",
    "elif score >= 80 and score < 90: \n",
    "    print('Grade B')\n",
    "elif score >= 70 and score < 80: \n",
    "    print('Grade C')\n",
    "elif score >= 60 and score < 70: \n",
    "    print('Grade D')\n",
    "else: \n",
    "    print('Grade F')"
   ]
  },
  {
   "cell_type": "code",
   "execution_count": 8,
   "id": "62f3f62c",
   "metadata": {},
   "outputs": [
    {
     "name": "stdout",
     "output_type": "stream",
     "text": [
      "Score: 1\n",
      "Grade F\n"
     ]
    }
   ],
   "source": [
    "# simplifying\n",
    "score = int(input('Score: '))\n",
    "if score >= 90: \n",
    "    print('Grade A')\n",
    "elif score >= 80: \n",
    "    print('Grade B')\n",
    "elif score >= 80: \n",
    "    print('Grade C')\n",
    "elif score >= 60: \n",
    "    print('Grade D')\n",
    "else: \n",
    "    print('Grade F')"
   ]
  },
  {
   "cell_type": "code",
   "execution_count": 9,
   "id": "39f75752",
   "metadata": {},
   "outputs": [
    {
     "name": "stdout",
     "output_type": "stream",
     "text": [
      "Score: 1\n"
     ]
    }
   ],
   "source": [
    "# simplifying\n",
    "# if you doing make the questions mutally exclusive \n",
    "score = int(input('Score: '))\n",
    "if score >= 90: \n",
    "    print('Grade A')\n",
    "if score >= 80: \n",
    "    print('Grade B')\n",
    "if score >= 80: \n",
    "    print('Grade C')\n",
    "if score >= 60: \n",
    "    print('Grade D')"
   ]
  },
  {
   "cell_type": "markdown",
   "id": "159d9eb2",
   "metadata": {},
   "source": [
    "### Parity "
   ]
  },
  {
   "cell_type": "code",
   "execution_count": 11,
   "id": "290e2a24",
   "metadata": {},
   "outputs": [
    {
     "name": "stdout",
     "output_type": "stream",
     "text": [
      "Whats x? 1\n",
      "Odd\n"
     ]
    }
   ],
   "source": [
    "def main():\n",
    "    x = int(input('Whats x? '))\n",
    "    if is_even(x):\n",
    "        print ('Even')\n",
    "    else: \n",
    "        print('Odd')\n",
    "        \n",
    "def is_even(n):\n",
    "    if n % 2 == 0:\n",
    "        return True \n",
    "    else:\n",
    "        return False\n",
    "main()        "
   ]
  },
  {
   "cell_type": "code",
   "execution_count": 17,
   "id": "422350ba",
   "metadata": {},
   "outputs": [
    {
     "name": "stdout",
     "output_type": "stream",
     "text": [
      "Whats x? 2\n",
      "Even\n"
     ]
    }
   ],
   "source": [
    "# pytonic\n",
    "def main():\n",
    "    x = int(input('Whats x? '))\n",
    "    if is_even(x):\n",
    "        print ('Even')\n",
    "    else: \n",
    "        print('Odd')\n",
    "        \n",
    "def is_even(n):\n",
    "    #return True if n % 2 == 0 else False\n",
    "    return (n % 2 == 0) \n",
    "main()"
   ]
  },
  {
   "cell_type": "markdown",
   "id": "1a8de287",
   "metadata": {},
   "source": [
    "### Match"
   ]
  },
  {
   "cell_type": "code",
   "execution_count": 19,
   "id": "79ecac0d",
   "metadata": {},
   "outputs": [
    {
     "name": "stdout",
     "output_type": "stream",
     "text": [
      "Whats your name? k\n",
      "who?\n"
     ]
    }
   ],
   "source": [
    "name = input('Whats your name? ')\n",
    "if name == 'Harry' or name == 'Hermione' or name =='ron':\n",
    "    print('Gryffindor')\n",
    "elif name == 'Draco':\n",
    "    print('Slytherine')\n",
    "else:\n",
    "    print('who?')"
   ]
  },
  {
   "cell_type": "code",
   "execution_count": 28,
   "id": "e4641830",
   "metadata": {},
   "outputs": [
    {
     "ename": "SyntaxError",
     "evalue": "invalid syntax (3145071160.py, line 3)",
     "output_type": "error",
     "traceback": [
      "\u001b[1;36m  Input \u001b[1;32mIn [28]\u001b[1;36m\u001b[0m\n\u001b[1;33m    match name:\u001b[0m\n\u001b[1;37m          ^\u001b[0m\n\u001b[1;31mSyntaxError\u001b[0m\u001b[1;31m:\u001b[0m invalid syntax\n"
     ]
    }
   ],
   "source": [
    "name = input('Whats your name? ')\n",
    "\n",
    "match name: \n",
    "    case 'Harry'|'Hermione'|'ron':\n",
    "    print('Gryffindor')\n",
    "    case'Draco':\n",
    "    print('Slytherine')\n",
    "    case _:\n",
    "    print('who?')"
   ]
  }
 ],
 "metadata": {
  "kernelspec": {
   "display_name": "Python 3 (ipykernel)",
   "language": "python",
   "name": "python3"
  },
  "language_info": {
   "codemirror_mode": {
    "name": "ipython",
    "version": 3
   },
   "file_extension": ".py",
   "mimetype": "text/x-python",
   "name": "python",
   "nbconvert_exporter": "python",
   "pygments_lexer": "ipython3",
   "version": "3.9.12"
  }
 },
 "nbformat": 4,
 "nbformat_minor": 5
}
