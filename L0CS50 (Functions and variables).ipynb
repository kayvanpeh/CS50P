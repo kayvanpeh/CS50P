{
 "cells": [
  {
   "cell_type": "markdown",
   "id": "72cf12aa",
   "metadata": {},
   "source": [
    "# CS50's Introduction to Programming with Python\n",
    "Lecture 0 (Functions and variables) \n",
    "Date: 22 August 2022 (Completed)"
   ]
  },
  {
   "cell_type": "code",
   "execution_count": 18,
   "id": "b1b8ae3c",
   "metadata": {},
   "outputs": [
    {
     "name": "stdout",
     "output_type": "stream",
     "text": [
      "what's yout name? Kayvan \n",
      "hello,\n",
      "Kayvan \n"
     ]
    }
   ],
   "source": [
    "## Source Documentation https://cs50.harvard.edu/python/2022/notes/0/\n",
    "## Lecture 0 (Functions, variables)\n",
    "# add comment as a pseudocode\n",
    "# Say hello to user \n",
    "name = input (\"what's yout name? \")\n",
    "print('hello,')\n",
    "print(name)\n",
    "\n",
    "# variable can store a value, python reads from right to the left\n",
    "# '' makes the vriable a string"
   ]
  },
  {
   "cell_type": "code",
   "execution_count": 13,
   "id": "11c9c859",
   "metadata": {},
   "outputs": [
    {
     "name": "stdout",
     "output_type": "stream",
     "text": [
      "hello, Kayvan \n",
      "hello, Kayvan \n"
     ]
    }
   ],
   "source": [
    "print('hello, ' + name)\n",
    "# alternatively \n",
    "print('hello,',name)\n",
    "# Automatically incert space for you.\n",
    "# + as a concatenation "
   ]
  },
  {
   "cell_type": "code",
   "execution_count": 19,
   "id": "54f3f970",
   "metadata": {},
   "outputs": [
    {
     "name": "stdout",
     "output_type": "stream",
     "text": [
      "hello,Kayvan \n"
     ]
    }
   ],
   "source": [
    "# print(*objects, sep=' ', end ='\\n', file= sys.stdout flush = false)\n",
    "# inside the parameter \n",
    "# sep =' ' as a speerator, as a single blank space \n",
    "# end ='\\n' means new line to maove the cursor to the next line \n",
    "# by passing a second argument \n",
    "print('hello,', end =\"\")\n",
    "print(name)\n"
   ]
  },
  {
   "cell_type": "code",
   "execution_count": 26,
   "id": "a785029d",
   "metadata": {},
   "outputs": [
    {
     "name": "stdout",
     "output_type": "stream",
     "text": [
      "hello, \"friend\"\n",
      "hello, Kayvan \n"
     ]
    }
   ],
   "source": [
    "# to use quote on quote \n",
    "print('hello, \"friend\"')\n",
    "\n",
    "# {} as a f-string, as a special string\n",
    "print(f'hello, {name}')\n",
    "\n",
    "# Documentation of string function docs.python.org/3/library/stdtypes.html#stringmethods"
   ]
  },
  {
   "cell_type": "markdown",
   "id": "01689a75",
   "metadata": {},
   "source": [
    "### String"
   ]
  },
  {
   "cell_type": "code",
   "execution_count": null,
   "id": "505ccc4b",
   "metadata": {},
   "outputs": [],
   "source": [
    "# Remove whitespace from str\n",
    "name = name.strip()\n",
    "# if name is a string takes away whitespaces in the parathesis \n",
    "# = means assignment of the vairable, right to left\n",
    "\n",
    "# to capitalize user names \n",
    "name = name.capitalize()\n",
    "# only capitalize the first \n",
    "name =name.title()\n",
    "\n",
    "# to shorten the code, reduces the line of code \n",
    "name = input (\"what's yout name? \").strip().title()\n",
    "\n",
    "print(f'hello, {name}')"
   ]
  },
  {
   "cell_type": "code",
   "execution_count": 37,
   "id": "fca8f0f6",
   "metadata": {},
   "outputs": [
    {
     "name": "stdout",
     "output_type": "stream",
     "text": [
      "hello, ('Kayvan', 'Peh')\n"
     ]
    }
   ],
   "source": [
    "# Split user's name into first name and last name \n",
    "first, last = name.split(\" \")\n",
    "print(f'hello, {first,last}')\n"
   ]
  },
  {
   "cell_type": "markdown",
   "id": "98d1fd61",
   "metadata": {},
   "source": [
    "### Integer"
   ]
  },
  {
   "cell_type": "code",
   "execution_count": 41,
   "id": "8bbb87fa",
   "metadata": {},
   "outputs": [
    {
     "name": "stdout",
     "output_type": "stream",
     "text": [
      "3\n"
     ]
    }
   ],
   "source": [
    "#Integer has no decimal places\n",
    "# + add , - minus, * multiply, / divide and % moduler operator to take the reminder\n",
    "# interactive mode \n",
    "x = 1 \n",
    "y = 2\n",
    "z = x + y\n",
    "print(z)"
   ]
  },
  {
   "cell_type": "code",
   "execution_count": 44,
   "id": "e39aa7dc",
   "metadata": {
    "scrolled": true
   },
   "outputs": [
    {
     "name": "stdout",
     "output_type": "stream",
     "text": [
      "what's x? 1\n",
      "what's y? 2\n",
      "3\n"
     ]
    }
   ],
   "source": [
    "#x and y currently as str, add int to convert string to integer\n",
    "x = input (\"what's x? \")\n",
    "y = input (\"what's y? \")\n",
    "z = int(x) + int(y)\n",
    "print(z)"
   ]
  },
  {
   "cell_type": "code",
   "execution_count": 45,
   "id": "833b3678",
   "metadata": {},
   "outputs": [
    {
     "name": "stdout",
     "output_type": "stream",
     "text": [
      "what's x? 1\n",
      "what's y? 2\n",
      "3\n"
     ]
    }
   ],
   "source": [
    "# nesting \n",
    "x = int(input(\"what's x? \"))\n",
    "y = int(input(\"what's y? \"))\n",
    "print(x + y)"
   ]
  },
  {
   "cell_type": "markdown",
   "id": "b62fcd8d",
   "metadata": {},
   "source": [
    "### Float"
   ]
  },
  {
   "cell_type": "code",
   "execution_count": 50,
   "id": "78f0092d",
   "metadata": {},
   "outputs": [
    {
     "name": "stdout",
     "output_type": "stream",
     "text": [
      "what's x? 4.2\n",
      "what's y? 4.2\n",
      "8.4\n",
      "8\n",
      "8\n"
     ]
    }
   ],
   "source": [
    "# Floating point value, with decimal point \n",
    "x = float(input(\"what's x? \"))\n",
    "y = float(input(\"what's y? \"))\n",
    "print(x + y)\n",
    "\n",
    "# to round to the nearest integer\n",
    "# in documentation round(number[,ndigits])\n",
    "z = round(x + y)\n",
    "print(z)\n",
    "\n",
    "# alternate ways to round \n",
    "print(f\"{z:,}\")\n",
    "\n",
    "# round to nearest 2 dcp round(z, 2)\n",
    "# print(f\"{z:,2f}\")"
   ]
  },
  {
   "cell_type": "markdown",
   "id": "efb1a37f",
   "metadata": {},
   "source": [
    "### Function "
   ]
  },
  {
   "cell_type": "code",
   "execution_count": 55,
   "id": "66ac8d6a",
   "metadata": {},
   "outputs": [
    {
     "name": "stdout",
     "output_type": "stream",
     "text": [
      "Whats your name? Kayvan \n",
      "hello\n",
      "Kayvan \n"
     ]
    }
   ],
   "source": [
    "# create function using def\n",
    "def hello():\n",
    "    print('hello')\n",
    "    \n",
    "name = input('Whats your name? ')\n",
    "hello()\n",
    "print(name)"
   ]
  },
  {
   "cell_type": "code",
   "execution_count": 56,
   "id": "277d1e9a",
   "metadata": {},
   "outputs": [
    {
     "name": "stdout",
     "output_type": "stream",
     "text": [
      "Whats your name? Kayvan \n",
      "hello, Kayvan \n"
     ]
    }
   ],
   "source": [
    "# calling parameter to \n",
    "def hello(to):\n",
    "    print('hello,', to)\n",
    "    \n",
    "name = input('Whats your name? ')\n",
    "hello(name)\n",
    "# taking parameter as input\n",
    "# passing to as argument "
   ]
  },
  {
   "cell_type": "code",
   "execution_count": 57,
   "id": "6dd66fcb",
   "metadata": {},
   "outputs": [
    {
     "name": "stdout",
     "output_type": "stream",
     "text": [
      "hello, world\n",
      "Whats your name? Kayvan\n",
      "hello, Kayvan\n"
     ]
    }
   ],
   "source": [
    "# calling parameter to \n",
    "def hello(to=\"world\"):\n",
    "    print('hello,', to)\n",
    "    \n",
    "hello()\n",
    "name = input('Whats your name? ')\n",
    "hello(name)"
   ]
  },
  {
   "cell_type": "code",
   "execution_count": 58,
   "id": "ffc0de74",
   "metadata": {},
   "outputs": [
    {
     "name": "stdout",
     "output_type": "stream",
     "text": [
      "Whats your name? Kayvan \n",
      "hello, Kayvan \n"
     ]
    }
   ],
   "source": [
    "def main():\n",
    "    name = input('Whats your name? ')\n",
    "    hello(name)\n",
    "    \n",
    "def hello(to=\"world\"):\n",
    "    print('hello,', to)\n",
    "    \n",
    "main()\n",
    "# to call main function to have the effect to organize the flow "
   ]
  },
  {
   "cell_type": "code",
   "execution_count": 59,
   "id": "ad0a7036",
   "metadata": {},
   "outputs": [
    {
     "name": "stdout",
     "output_type": "stream",
     "text": [
      "Whats your name? Kayvan\n",
      "hello, Kayvan\n"
     ]
    }
   ],
   "source": [
    "# issue called scope can only use in the main fucntion\n",
    "def main():\n",
    "    name = input('Whats your name? ')\n",
    "    hello()\n",
    "    \n",
    "def hello(to=\"world\"):\n",
    "    print('hello,', name)\n",
    "    \n",
    "main()"
   ]
  },
  {
   "cell_type": "markdown",
   "id": "8ddada54",
   "metadata": {},
   "source": [
    "### Return "
   ]
  },
  {
   "cell_type": "code",
   "execution_count": 62,
   "id": "bac8a992",
   "metadata": {},
   "outputs": [
    {
     "name": "stdout",
     "output_type": "stream",
     "text": [
      "Whats x? 2\n",
      "x squared is 4\n"
     ]
    }
   ],
   "source": [
    "def main():\n",
    "    x = int(input('Whats x? '))\n",
    "    print('x squared is', square(x))\n",
    "    \n",
    "def square(n):\n",
    "    return pow (n, 2) \n",
    "# alternatively return n * n\n",
    "    \n",
    "main()"
   ]
  }
 ],
 "metadata": {
  "kernelspec": {
   "display_name": "Python 3 (ipykernel)",
   "language": "python",
   "name": "python3"
  },
  "language_info": {
   "codemirror_mode": {
    "name": "ipython",
    "version": 3
   },
   "file_extension": ".py",
   "mimetype": "text/x-python",
   "name": "python",
   "nbconvert_exporter": "python",
   "pygments_lexer": "ipython3",
   "version": "3.9.12"
  }
 },
 "nbformat": 4,
 "nbformat_minor": 5
}
