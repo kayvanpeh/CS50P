{
 "cells": [
  {
   "cell_type": "markdown",
   "id": "3da6ca5a",
   "metadata": {},
   "source": [
    "# CS50's Introduction to Programming with Python\n",
    "Lecture 3 (Exceptions) \n",
    "Date: 23 August 2022 (Completed)"
   ]
  },
  {
   "cell_type": "markdown",
   "id": "e8976183",
   "metadata": {},
   "source": [
    "### ValueError"
   ]
  },
  {
   "cell_type": "code",
   "execution_count": 7,
   "id": "847d5587",
   "metadata": {},
   "outputs": [
    {
     "name": "stdout",
     "output_type": "stream",
     "text": [
      "whats x? 50\n",
      "x is 50\n",
      "whats x? cat\n",
      "x is not an integer\n"
     ]
    }
   ],
   "source": [
    "# if user called om\n",
    "x = int(input('whats x? '))\n",
    "print(f'x is {x}')\n",
    "# literal is something that is typed in \n",
    "# Value error\n",
    "\n",
    "# use try and except to 'try to do something'\n",
    "# except if something go wrong\n",
    "\n",
    "try:\n",
    "    x = int(input('whats x? '))\n",
    "    print(f'x is {x}')\n",
    "except ValueError: \n",
    "    print('x is not an integer')"
   ]
  },
  {
   "cell_type": "code",
   "execution_count": 13,
   "id": "760dca6c",
   "metadata": {},
   "outputs": [
    {
     "name": "stdout",
     "output_type": "stream",
     "text": [
      "whats x? 50\n",
      "x is 50\n"
     ]
    }
   ],
   "source": [
    "# best practice to reduce the no. of code\n",
    "try:\n",
    "    x = int(input('whats x? '))\n",
    "except ValueError: \n",
    "    print('x is not an integer')\n",
    "# introduce else to make the code mutaully exclusive\n",
    "else:\n",
    "    print(f'x is {x}')"
   ]
  },
  {
   "cell_type": "code",
   "execution_count": 15,
   "id": "e0c1e9c1",
   "metadata": {},
   "outputs": [
    {
     "name": "stdout",
     "output_type": "stream",
     "text": [
      "whats x? cat\n",
      "x is not an integer\n",
      "whats x? cat\n",
      "x is not an integer\n",
      "whats x? dog\n",
      "x is not an integer\n",
      "whats x? 1\n",
      "x is 1\n"
     ]
    }
   ],
   "source": [
    "# to try infinitely till the user break out of the loop\n",
    "while True: \n",
    "    try:\n",
    "        x = int(input('whats x? '))\n",
    "    except ValueError: \n",
    "        print('x is not an integer')\n",
    "    else:\n",
    "        break\n",
    "\n",
    "print(f'x is {x}')"
   ]
  },
  {
   "cell_type": "markdown",
   "id": "fd921367",
   "metadata": {},
   "source": [
    "### try except return break "
   ]
  },
  {
   "cell_type": "code",
   "execution_count": 21,
   "id": "ea2f4895",
   "metadata": {},
   "outputs": [
    {
     "name": "stdout",
     "output_type": "stream",
     "text": [
      "whats x? 50\n",
      "x is 50\n"
     ]
    }
   ],
   "source": [
    "def main(): \n",
    "    x = get_int()\n",
    "    print(f'x is {x}')\n",
    "\n",
    "def get_int():\n",
    "    while True: \n",
    "        try:\n",
    "            x = int(input('whats x? '))\n",
    "        except ValueError: \n",
    "            print('x is not an integer')\n",
    "        else:\n",
    "            break \n",
    "    return x\n",
    "main()"
   ]
  },
  {
   "cell_type": "code",
   "execution_count": 24,
   "id": "12b37603",
   "metadata": {},
   "outputs": [
    {
     "name": "stdout",
     "output_type": "stream",
     "text": [
      "whats x? 50\n",
      "x is 50\n"
     ]
    }
   ],
   "source": [
    "# tightening up the implementation of the code\n",
    "# break is to break out of the loop \n",
    "# with else can break out and return the value \n",
    "# return is strong than break \n",
    "def main(): \n",
    "    x = get_int()\n",
    "    print(f'x is {x}')\n",
    "\n",
    "def get_int():\n",
    "    while True: \n",
    "        try:\n",
    "            return int(input('whats x? '))\n",
    "        except ValueError: \n",
    "            print('x is not an integer')\n",
    "main()"
   ]
  },
  {
   "cell_type": "markdown",
   "id": "35d1f196",
   "metadata": {},
   "source": [
    "### pass "
   ]
  },
  {
   "cell_type": "code",
   "execution_count": 27,
   "id": "8eda756c",
   "metadata": {},
   "outputs": [
    {
     "name": "stdout",
     "output_type": "stream",
     "text": [
      "whats x? cat\n",
      "whats x? cat\n",
      "whats x? 50\n",
      "x is 50\n"
     ]
    }
   ],
   "source": [
    "def main(): \n",
    "    x = get_int()\n",
    "    print(f'x is {x}')\n",
    "\n",
    "def get_int():\n",
    "    while True: \n",
    "        try:\n",
    "            return int(input('whats x? '))\n",
    "        except ValueError: \n",
    "            pass\n",
    "main()"
   ]
  },
  {
   "cell_type": "code",
   "execution_count": 29,
   "id": "28c2cd77",
   "metadata": {},
   "outputs": [
    {
     "name": "stdout",
     "output_type": "stream",
     "text": [
      "Whats x? 50\n",
      "x is 50\n"
     ]
    }
   ],
   "source": [
    "# making get_int more reusable\n",
    "# a more dynamic and reusable function\n",
    "def main(): \n",
    "    x = get_int('Whats x? ')\n",
    "    print(f'x is {x}')\n",
    "\n",
    "def get_int(prompt):\n",
    "    while True: \n",
    "        try:\n",
    "            return int(input(prompt))\n",
    "        except ValueError: \n",
    "            pass\n",
    "main()"
   ]
  },
  {
   "cell_type": "markdown",
   "id": "13884c3a",
   "metadata": {},
   "source": [
    "### Debugging "
   ]
  },
  {
   "cell_type": "code",
   "execution_count": 39,
   "id": "cbb194f4",
   "metadata": {},
   "outputs": [
    {
     "name": "stdout",
     "output_type": "stream",
     "text": [
      "Height: 3\n",
      "\n",
      "#\n",
      "##\n"
     ]
    }
   ],
   "source": [
    "# define main function \n",
    "# corresponding value user typed in\n",
    "def main():\n",
    "    height = int(input('Height: '))\n",
    "    pyramid(height)\n",
    "\n",
    "# n as an argument \n",
    "def pyramid(n): \n",
    "    for i in range (n): \n",
    "        print(\"#\" * i)\n",
    "\n",
    "if __name__ == '__main__': \n",
    "    main()"
   ]
  },
  {
   "cell_type": "code",
   "execution_count": 40,
   "id": "ccae65b9",
   "metadata": {},
   "outputs": [
    {
     "name": "stdout",
     "output_type": "stream",
     "text": [
      "Height: 3\n",
      "0 \n",
      "1 #\n",
      "2 ##\n"
     ]
    }
   ],
   "source": [
    "def main():\n",
    "    height = int(input('Height: '))\n",
    "    pyramid(height)\n",
    "\n",
    "# n as an argument \n",
    "def pyramid(n): \n",
    "    for i in range (n): \n",
    "        print(i, end=' ')\n",
    "        print(\"#\" * i)\n",
    "\n",
    "if __name__ == '__main__': \n",
    "    main()"
   ]
  },
  {
   "cell_type": "code",
   "execution_count": 41,
   "id": "9c8b3da4",
   "metadata": {},
   "outputs": [
    {
     "name": "stdout",
     "output_type": "stream",
     "text": [
      "Height: 3\n",
      "#\n",
      "##\n",
      "###\n"
     ]
    }
   ],
   "source": [
    "def main():\n",
    "    height = int(input('Height: '))\n",
    "    pyramid(height)\n",
    "\n",
    "# n as an argument \n",
    "def pyramid(n): \n",
    "    for i in range (n): \n",
    "        print(\"#\" * (i + 1))\n",
    "\n",
    "if __name__ == '__main__': \n",
    "    main()"
   ]
  },
  {
   "cell_type": "markdown",
   "id": "fd9906e1",
   "metadata": {},
   "source": [
    "### breakpoints"
   ]
  },
  {
   "cell_type": "code",
   "execution_count": null,
   "id": "61b55dc8",
   "metadata": {},
   "outputs": [],
   "source": [
    "def main():\n",
    "    height = int(input('Height: '))\n",
    "    pyramid(height)\n",
    "\n",
    "# n as an argument \n",
    "def pyramid(n): \n",
    "    for i in range (n): \n",
    "        print(\"#\" * i)\n",
    "        \n",
    "if __name__ == '__main__': \n",
    "    main()\n",
    "# %debug ,run and debug "
   ]
  },
  {
   "cell_type": "code",
   "execution_count": null,
   "id": "2ef46ca7",
   "metadata": {},
   "outputs": [],
   "source": [
    "jupyter labextension install @jupyterlab/debugger\n",
    "conda install xeus-python -c conda-forge"
   ]
  }
 ],
 "metadata": {
  "kernelspec": {
   "display_name": "Python 3 (ipykernel)",
   "language": "python",
   "name": "python3"
  },
  "language_info": {
   "codemirror_mode": {
    "name": "ipython",
    "version": 3
   },
   "file_extension": ".py",
   "mimetype": "text/x-python",
   "name": "python",
   "nbconvert_exporter": "python",
   "pygments_lexer": "ipython3",
   "version": "3.9.12"
  }
 },
 "nbformat": 4,
 "nbformat_minor": 5
}
