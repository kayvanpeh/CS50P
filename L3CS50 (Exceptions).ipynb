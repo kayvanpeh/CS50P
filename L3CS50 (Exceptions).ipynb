{
 "cells": [
  {
   "cell_type": "markdown",
   "id": "3da6ca5a",
   "metadata": {},
   "source": [
    "# CS50's Introduction to Programming with Python\n",
    "Lecture 3 (Exceptions) \n",
    "Date: 23 August 2022 (Completed)"
   ]
  },
  {
   "cell_type": "markdown",
   "id": "e8976183",
   "metadata": {},
   "source": [
    "### ValueError"
   ]
  },
  {
   "cell_type": "code",
   "execution_count": 7,
   "id": "847d5587",
   "metadata": {},
   "outputs": [
    {
     "name": "stdout",
     "output_type": "stream",
     "text": [
      "whats x? 50\n",
      "x is 50\n",
      "whats x? cat\n",
      "x is not an integer\n"
     ]
    }
   ],
   "source": [
    "# if user called om\n",
    "x = int(input('whats x? '))\n",
    "print(f'x is {x}')\n",
    "# literal is something that is typed in \n",
    "# Value error\n",
    "\n",
    "# use try and except to 'try to do something'\n",
    "# except if something go wrong\n",
    "\n",
    "try:\n",
    "    x = int(input('whats x? '))\n",
    "    print(f'x is {x}')\n",
    "except ValueError: \n",
    "    print('x is not an integer')"
   ]
  },
  {
   "cell_type": "code",
   "execution_count": 13,
   "id": "760dca6c",
   "metadata": {},
   "outputs": [
    {
     "name": "stdout",
     "output_type": "stream",
     "text": [
      "whats x? 50\n",
      "x is 50\n"
     ]
    }
   ],
   "source": [
    "# best practice to reduce the no. of code\n",
    "try:\n",
    "    x = int(input('whats x? '))\n",
    "except ValueError: \n",
    "    print('x is not an integer')\n",
    "# introduce else to make the code mutaully exclusive\n",
    "else:\n",
    "    print(f'x is {x}')"
   ]
  },
  {
   "cell_type": "code",
   "execution_count": 15,
   "id": "e0c1e9c1",
   "metadata": {},
   "outputs": [
    {
     "name": "stdout",
     "output_type": "stream",
     "text": [
      "whats x? cat\n",
      "x is not an integer\n",
      "whats x? cat\n",
      "x is not an integer\n",
      "whats x? dog\n",
      "x is not an integer\n",
      "whats x? 1\n",
      "x is 1\n"
     ]
    }
   ],
   "source": [
    "# to try infinitely till the user break out of the loop\n",
    "while True: \n",
    "    try:\n",
    "        x = int(input('whats x? '))\n",
    "    except ValueError: \n",
    "        print('x is not an integer')\n",
    "    else:\n",
    "        break\n",
    "\n",
    "print(f'x is {x}')"
   ]
  },
  {
   "cell_type": "markdown",
   "id": "fd921367",
   "metadata": {},
   "source": [
    "### try except return break "
   ]
  },
  {
   "cell_type": "code",
   "execution_count": 21,
   "id": "ea2f4895",
   "metadata": {},
   "outputs": [
    {
     "name": "stdout",
     "output_type": "stream",
     "text": [
      "whats x? 50\n",
      "x is 50\n"
     ]
    }
   ],
   "source": [
    "def main(): \n",
    "    x = get_int()\n",
    "    print(f'x is {x}')\n",
    "\n",
    "def get_int():\n",
    "    while True: \n",
    "        try:\n",
    "            x = int(input('whats x? '))\n",
    "        except ValueError: \n",
    "            print('x is not an integer')\n",
    "        else:\n",
    "            break \n",
    "    return x\n",
    "main()"
   ]
  },
  {
   "cell_type": "code",
   "execution_count": 24,
   "id": "12b37603",
   "metadata": {},
   "outputs": [
    {
     "name": "stdout",
     "output_type": "stream",
     "text": [
      "whats x? 50\n",
      "x is 50\n"
     ]
    }
   ],
   "source": [
    "# tightening up the implementation of the code\n",
    "# break is to break out of the loop \n",
    "# with else can break out and return the value \n",
    "# return is strong than break \n",
    "def main(): \n",
    "    x = get_int()\n",
    "    print(f'x is {x}')\n",
    "\n",
    "def get_int():\n",
    "    while True: \n",
    "        try:\n",
    "            return int(input('whats x? '))\n",
    "        except ValueError: \n",
    "            print('x is not an integer')\n",
    "main()"
   ]
  },
  {
   "cell_type": "markdown",
   "id": "35d1f196",
   "metadata": {},
   "source": [
    "### pass "
   ]
  },
  {
   "cell_type": "code",
   "execution_count": 27,
   "id": "8eda756c",
   "metadata": {},
   "outputs": [
    {
     "name": "stdout",
     "output_type": "stream",
     "text": [
      "whats x? cat\n",
      "whats x? cat\n",
      "whats x? 50\n",
      "x is 50\n"
     ]
    }
   ],
   "source": [
    "def main(): \n",
    "    x = get_int()\n",
    "    print(f'x is {x}')\n",
    "\n",
    "def get_int():\n",
    "    while True: \n",
    "        try:\n",
    "            return int(input('whats x? '))\n",
    "        except ValueError: \n",
    "            pass\n",
    "main()"
   ]
  },
  {
   "cell_type": "code",
   "execution_count": 28,
   "id": "28c2cd77",
   "metadata": {},
   "outputs": [
    {
     "name": "stdout",
     "output_type": "stream",
     "text": [
      "Whats x? a\n",
      "Whats x? 50\n",
      "x is 50\n"
     ]
    }
   ],
   "source": [
    "# making get_int more reusable\n",
    "# a more dynamic and reusable function\n",
    "def main(): \n",
    "    x = get_int('Whats x? ')\n",
    "    print(f'x is {x}')\n",
    "\n",
    "def get_int(prompt):\n",
    "    while True: \n",
    "        try:\n",
    "            return int(input(prompt))\n",
    "        except ValueError: \n",
    "            pass\n",
    "main()"
   ]
  }
 ],
 "metadata": {
  "kernelspec": {
   "display_name": "Python 3 (ipykernel)",
   "language": "python",
   "name": "python3"
  },
  "language_info": {
   "codemirror_mode": {
    "name": "ipython",
    "version": 3
   },
   "file_extension": ".py",
   "mimetype": "text/x-python",
   "name": "python",
   "nbconvert_exporter": "python",
   "pygments_lexer": "ipython3",
   "version": "3.9.12"
  }
 },
 "nbformat": 4,
 "nbformat_minor": 5
}
