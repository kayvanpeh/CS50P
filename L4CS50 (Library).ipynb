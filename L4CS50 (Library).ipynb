{
 "cells": [
  {
   "cell_type": "markdown",
   "id": "884e4075",
   "metadata": {},
   "source": [
    "# CS50's Introduction to Programming with Python\n",
    "Lecture 4 (Libraries) \n",
    "Date: 23 August 2022 (Completed)"
   ]
  },
  {
   "cell_type": "markdown",
   "id": "cc8b4e3c",
   "metadata": {},
   "source": [
    "### Random random.choice(seq)\n",
    "### Documentation: https://docs.python.org/3/library/random.html"
   ]
  },
  {
   "cell_type": "code",
   "execution_count": 4,
   "id": "f101f6e4",
   "metadata": {},
   "outputs": [],
   "source": [
    "import random"
   ]
  },
  {
   "cell_type": "code",
   "execution_count": 5,
   "id": "1e45c3a0",
   "metadata": {},
   "outputs": [
    {
     "name": "stdout",
     "output_type": "stream",
     "text": [
      "heads\n"
     ]
    }
   ],
   "source": [
    "# to take a sequence in a list \n",
    "coin = random.choice(['heads','tails'])\n",
    "print(coin)"
   ]
  },
  {
   "cell_type": "code",
   "execution_count": 7,
   "id": "fa8f9ae1",
   "metadata": {},
   "outputs": [
    {
     "name": "stdout",
     "output_type": "stream",
     "text": [
      "4\n"
     ]
    }
   ],
   "source": [
    "# randomize an integer\n",
    "number = random.randint(1,10)\n",
    "print(number)"
   ]
  },
  {
   "cell_type": "code",
   "execution_count": 14,
   "id": "4ee3bcef",
   "metadata": {},
   "outputs": [
    {
     "name": "stdout",
     "output_type": "stream",
     "text": [
      "['king', 'jack', 'queen']\n",
      "king\n",
      "jack\n",
      "queen\n"
     ]
    }
   ],
   "source": [
    "# takes in a list of items and shuffle it \n",
    "# random.shuffle()\n",
    "cards = (['jack', 'king', 'queen'])\n",
    "random.shuffle(cards)\n",
    "print(cards)\n",
    "\n",
    "for card in cards: \n",
    "    print(card)"
   ]
  },
  {
   "cell_type": "markdown",
   "id": "40008019",
   "metadata": {},
   "source": [
    "### Statictics library: https://docs.python.org/3/library/statistics.html"
   ]
  },
  {
   "cell_type": "code",
   "execution_count": 15,
   "id": "00fd2bad",
   "metadata": {},
   "outputs": [
    {
     "data": {
      "text/plain": [
       "95"
      ]
     },
     "execution_count": 15,
     "metadata": {},
     "output_type": "execute_result"
    }
   ],
   "source": [
    "import statistics\n",
    "statistics.mean([100, 90])"
   ]
  },
  {
   "cell_type": "markdown",
   "id": "00abba82",
   "metadata": {},
   "source": [
    "### command-line arguments\n",
    "### sys documentation: https://docs.python.org/3/library/sys.html"
   ]
  },
  {
   "cell_type": "code",
   "execution_count": 17,
   "id": "54f38880",
   "metadata": {},
   "outputs": [
    {
     "name": "stdout",
     "output_type": "stream",
     "text": [
      "hello, my name is C:\\Users\\Kayva\\anaconda3\\lib\\site-packages\\ipykernel_launcher.py\n"
     ]
    }
   ],
   "source": [
    "import sys\n",
    "print('hello, my name is', sys.argv[0])"
   ]
  },
  {
   "cell_type": "code",
   "execution_count": 19,
   "id": "6f99b509",
   "metadata": {},
   "outputs": [
    {
     "name": "stdout",
     "output_type": "stream",
     "text": [
      "hello, my name is C:\\Users\\Kayva\\anaconda3\\lib\\site-packages\\ipykernel_launcher.py\n"
     ]
    }
   ],
   "source": [
    "try:\n",
    "    print('hello, my name is', sys.argv[0])\n",
    "except IndexError:\n",
    "    print('Too few argument')"
   ]
  },
  {
   "cell_type": "code",
   "execution_count": 22,
   "id": "6c8c113d",
   "metadata": {},
   "outputs": [
    {
     "name": "stdout",
     "output_type": "stream",
     "text": [
      "too many arguments\n"
     ]
    }
   ],
   "source": [
    "if len(sys.argv) < 2: \n",
    "    print('Too few argument')\n",
    "elif len(sys.argv) > 2:\n",
    "    print('too many arguments')\n",
    "else:\n",
    "    print('hello, my name is', sys.argv[3])"
   ]
  },
  {
   "cell_type": "code",
   "execution_count": 25,
   "id": "4defb602",
   "metadata": {},
   "outputs": [
    {
     "ename": "SystemExit",
     "evalue": "too many arguments",
     "output_type": "error",
     "traceback": [
      "An exception has occurred, use %tb to see the full traceback.\n",
      "\u001b[1;31mSystemExit\u001b[0m\u001b[1;31m:\u001b[0m too many arguments\n"
     ]
    }
   ],
   "source": [
    "# check for errors\n",
    "if len(sys.argv) < 2: \n",
    "    sys.exit('Too few argument')\n",
    "elif len(sys.argv) > 2:\n",
    "    sys.exit('too many arguments')\n",
    "# print name tags\n",
    "# this is going to raise an exception\n",
    "print('hello, my name is', sys.argv[3])"
   ]
  },
  {
   "cell_type": "code",
   "execution_count": 28,
   "id": "e19ce975",
   "metadata": {},
   "outputs": [
    {
     "name": "stdout",
     "output_type": "stream",
     "text": [
      "hello, my name is -f\n",
      "hello, my name is C:\\Users\\Kayva\\AppData\\Roaming\\jupyter\\runtime\\kernel-c31dc4f4-d61a-4d8f-8c14-a69fe3d4ba1f.json\n"
     ]
    }
   ],
   "source": [
    "# check for errors\n",
    "if len(sys.argv) < 2: \n",
    "    sys.exit('Too few argument')\n",
    "for arg in sys.argv[1:]: \n",
    "    print('hello, my name is', arg)"
   ]
  },
  {
   "cell_type": "markdown",
   "id": "1dbcebe6",
   "metadata": {},
   "source": [
    "### Packages PyPi pypi.org"
   ]
  },
  {
   "cell_type": "code",
   "execution_count": 29,
   "id": "6f80409c",
   "metadata": {},
   "outputs": [
    {
     "name": "stdout",
     "output_type": "stream",
     "text": [
      "Collecting cowsay\n",
      "  Downloading cowsay-5.0.tar.gz (25 kB)\n",
      "Building wheels for collected packages: cowsay\n",
      "  Building wheel for cowsay (setup.py): started\n",
      "  Building wheel for cowsay (setup.py): finished with status 'done'\n",
      "  Created wheel for cowsay: filename=cowsay-5.0-py2.py3-none-any.whl size=25722 sha256=393aff37b34260d17d3b5444e96937bcc3ec8bcaeeaa454a1d66a949884b0486\n",
      "  Stored in directory: c:\\users\\kayva\\appdata\\local\\pip\\cache\\wheels\\ed\\ee\\26\\30026972333fe8a4a761d4e27db8b6cab3e78b1c2e3bab3e90\n",
      "Successfully built cowsay\n",
      "Installing collected packages: cowsay\n",
      "Successfully installed cowsay-5.0\n"
     ]
    }
   ],
   "source": [
    "!pip install cowsay"
   ]
  },
  {
   "cell_type": "code",
   "execution_count": 33,
   "id": "d21c8e1c",
   "metadata": {},
   "outputs": [],
   "source": [
    "import cowsay \n",
    "import sys\n",
    "if len(sys.argv) == 2:\n",
    "    print(cowsay.trex('hello', + sys.argv[1]))"
   ]
  },
  {
   "cell_type": "markdown",
   "id": "1eee1c87",
   "metadata": {},
   "source": [
    "### Using APIs third party API on the server\n",
    "### request https://pypi.org/project/requests/"
   ]
  },
  {
   "cell_type": "code",
   "execution_count": 36,
   "id": "191bb1f6",
   "metadata": {},
   "outputs": [
    {
     "name": "stdout",
     "output_type": "stream",
     "text": [
      "Requirement already satisfied: requests in c:\\users\\kayva\\anaconda3\\lib\\site-packages (2.27.1)\n",
      "Requirement already satisfied: urllib3<1.27,>=1.21.1 in c:\\users\\kayva\\anaconda3\\lib\\site-packages (from requests) (1.26.9)\n",
      "Requirement already satisfied: certifi>=2017.4.17 in c:\\users\\kayva\\anaconda3\\lib\\site-packages (from requests) (2021.10.8)\n",
      "Requirement already satisfied: charset-normalizer~=2.0.0 in c:\\users\\kayva\\anaconda3\\lib\\site-packages (from requests) (2.0.4)\n",
      "Requirement already satisfied: idna<4,>=2.5 in c:\\users\\kayva\\anaconda3\\lib\\site-packages (from requests) (3.3)\n"
     ]
    }
   ],
   "source": [
    "!pip install requests"
   ]
  },
  {
   "cell_type": "code",
   "execution_count": 45,
   "id": "270a13c6",
   "metadata": {},
   "outputs": [
    {
     "ename": "SystemExit",
     "evalue": "",
     "output_type": "error",
     "traceback": [
      "An exception has occurred, use %tb to see the full traceback.\n",
      "\u001b[1;31mSystemExit\u001b[0m\n"
     ]
    }
   ],
   "source": [
    "import requests\n",
    "# https://docs.python.org/3/library/json.html\n",
    "import json\n",
    "import sys\n",
    "if len(sys.argv) != 2:\n",
    "    sys.exit()\n",
    "    \n",
    "# using request lib to write python code \n",
    "response = requests.get('https://itunes.apple.com/search?entity=song&limit=1&term=' + sys.argv[1])\n",
    "print(json.dumps(response.json(), indent=2))"
   ]
  },
  {
   "cell_type": "code",
   "execution_count": 47,
   "id": "44e189ee",
   "metadata": {},
   "outputs": [
    {
     "ename": "SystemExit",
     "evalue": "",
     "output_type": "error",
     "traceback": [
      "An exception has occurred, use %tb to see the full traceback.\n",
      "\u001b[1;31mSystemExit\u001b[0m\n"
     ]
    }
   ],
   "source": [
    "if len(sys.argv) != 2:\n",
    "    sys.exit()\n",
    "    \n",
    "# using request lib to write python code \n",
    "response = requests.get('https://itunes.apple.com/search?entity=song&limit=1&term=' + sys.argv[1])\n",
    "o = response.json()\n",
    "for result in o['results']:\n",
    "    print(results ['trackName'])"
   ]
  },
  {
   "cell_type": "markdown",
   "id": "af99615b",
   "metadata": {},
   "source": [
    "### Making your own libraries to put on PyPi\n",
    "#### pycodestyle in pep8 will help to reformet your code in style guide\n",
    "#### black is a program with opiniated style guide"
   ]
  },
  {
   "cell_type": "code",
   "execution_count": 53,
   "id": "5799d751",
   "metadata": {},
   "outputs": [],
   "source": [
    "def main():\n",
    "    hello('world')\n",
    "    goodbye('world')\n",
    "\n",
    "def hello(name): \n",
    "    print(f'hello, {name}')\n",
    "\n",
    "def goodbye(name):\n",
    "    print(f'goodbye, {name}')\n",
    "    \n",
    "# __name__ is a special variable automitically set to be \"main\"\n",
    "if __name__ == '___main__:':\n",
    "    main()"
   ]
  }
 ],
 "metadata": {
  "kernelspec": {
   "display_name": "Python 3 (ipykernel)",
   "language": "python",
   "name": "python3"
  },
  "language_info": {
   "codemirror_mode": {
    "name": "ipython",
    "version": 3
   },
   "file_extension": ".py",
   "mimetype": "text/x-python",
   "name": "python",
   "nbconvert_exporter": "python",
   "pygments_lexer": "ipython3",
   "version": "3.9.12"
  }
 },
 "nbformat": 4,
 "nbformat_minor": 5
}
