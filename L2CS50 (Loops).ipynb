{
 "cells": [
  {
   "cell_type": "markdown",
   "id": "5c559fff",
   "metadata": {},
   "source": [
    "# CS50's Introduction to Programming with Python\n",
    "Lecture 2 (Loops) \n",
    "Date: 23 August 2022 (Completed)"
   ]
  },
  {
   "cell_type": "markdown",
   "id": "afa3dd5c",
   "metadata": {},
   "source": [
    "### while loop"
   ]
  },
  {
   "cell_type": "code",
   "execution_count": 2,
   "id": "cc4e8df4",
   "metadata": {},
   "outputs": [
    {
     "name": "stdout",
     "output_type": "stream",
     "text": [
      "Meow\n",
      "Meow\n",
      "Meow\n"
     ]
    }
   ],
   "source": [
    "i = 3\n",
    "while i != 0:\n",
    "    print('Meow')\n",
    "    i = i - 1"
   ]
  },
  {
   "cell_type": "code",
   "execution_count": 3,
   "id": "d3959604",
   "metadata": {},
   "outputs": [
    {
     "name": "stdout",
     "output_type": "stream",
     "text": [
      "Meow\n",
      "Meow\n",
      "Meow\n"
     ]
    }
   ],
   "source": [
    "i = 1\n",
    "while i <= 3:\n",
    "    print('Meow')\n",
    "    i = i + 1"
   ]
  },
  {
   "cell_type": "code",
   "execution_count": 8,
   "id": "25a9873e",
   "metadata": {},
   "outputs": [
    {
     "name": "stdout",
     "output_type": "stream",
     "text": [
      "Meow\n",
      "Meow\n",
      "Meow\n"
     ]
    }
   ],
   "source": [
    "i = 0\n",
    "while i < 3:\n",
    "    print('Meow')\n",
    "    i += 1"
   ]
  },
  {
   "cell_type": "markdown",
   "id": "a3a8e0b1",
   "metadata": {},
   "source": [
    "### for loop"
   ]
  },
  {
   "cell_type": "code",
   "execution_count": 12,
   "id": "ce784b3a",
   "metadata": {},
   "outputs": [
    {
     "name": "stdout",
     "output_type": "stream",
     "text": [
      "meow\n",
      "meow\n",
      "meow\n",
      "meow\n"
     ]
    }
   ],
   "source": [
    "# for loop to iterate a list of items\n",
    "for i in range(4):\n",
    "    print('meow')"
   ]
  },
  {
   "cell_type": "code",
   "execution_count": 13,
   "id": "62b5e355",
   "metadata": {},
   "outputs": [
    {
     "name": "stdout",
     "output_type": "stream",
     "text": [
      "meow\n",
      "meow\n",
      "meow\n",
      "meow\n"
     ]
    }
   ],
   "source": [
    "#pytonic\n",
    "# you don't care about its name because you're not using it later,\n",
    "# it's just necessary in order to use this feature, this loop in this case here.\n",
    "for _ in range(4):\n",
    "    print('meow')"
   ]
  },
  {
   "cell_type": "code",
   "execution_count": 16,
   "id": "4623c38d",
   "metadata": {},
   "outputs": [
    {
     "name": "stdout",
     "output_type": "stream",
     "text": [
      "meow\n",
      "meow\n",
      "meow\n"
     ]
    }
   ],
   "source": [
    "# with end='' the additional blank line will be eliminated \n",
    "print('meow\\n' * 3, end='')"
   ]
  },
  {
   "cell_type": "code",
   "execution_count": 22,
   "id": "cf89bda3",
   "metadata": {},
   "outputs": [
    {
     "name": "stdout",
     "output_type": "stream",
     "text": [
      "whats n? 2\n",
      "meow\n",
      "meow\n"
     ]
    }
   ],
   "source": [
    "while True: \n",
    "    n = int(input('whats n? '))\n",
    "    if n < 0:\n",
    "        continue \n",
    "    else: \n",
    "        break \n",
    "for _ in range(n): \n",
    "    print('meow')"
   ]
  },
  {
   "cell_type": "code",
   "execution_count": 20,
   "id": "b6d624bd",
   "metadata": {},
   "outputs": [
    {
     "name": "stdout",
     "output_type": "stream",
     "text": [
      "whats n? 4\n",
      "meow\n",
      "meow\n",
      "meow\n",
      "meow\n"
     ]
    }
   ],
   "source": [
    "while True: \n",
    "    n = int(input('whats n? '))\n",
    "    if n > 0:\n",
    "        break\n",
    "for _ in range(n): \n",
    "    print('meow')"
   ]
  },
  {
   "cell_type": "code",
   "execution_count": 24,
   "id": "7a8db30c",
   "metadata": {},
   "outputs": [
    {
     "name": "stdout",
     "output_type": "stream",
     "text": [
      "meow\n",
      "meow\n",
      "meow\n"
     ]
    }
   ],
   "source": [
    "def main():\n",
    "    meow(3)\n",
    "\n",
    "def meow(n): \n",
    "    for _ in range(n): \n",
    "        print('meow')\n",
    "main()"
   ]
  },
  {
   "cell_type": "code",
   "execution_count": 26,
   "id": "8185391c",
   "metadata": {},
   "outputs": [
    {
     "name": "stdout",
     "output_type": "stream",
     "text": [
      "Whats n? 3\n",
      "meow\n",
      "meow\n",
      "meow\n"
     ]
    }
   ],
   "source": [
    "def main():\n",
    "    number = get_number()\n",
    "    meow(number)\n",
    "\n",
    "def get_number():\n",
    "    while True: \n",
    "        n = int(input('Whats n? '))\n",
    "        if n > 0:\n",
    "            break \n",
    "    return n\n",
    "    \n",
    "def meow(n): \n",
    "    for _ in range(n): \n",
    "        print('meow')\n",
    "main()"
   ]
  },
  {
   "cell_type": "code",
   "execution_count": 29,
   "id": "99ee18a7",
   "metadata": {},
   "outputs": [
    {
     "name": "stdout",
     "output_type": "stream",
     "text": [
      "['Hermione', 'Harry', 'Ron']\n"
     ]
    }
   ],
   "source": [
    "# to print the content of the list, zero-index\n",
    "students = ['Hermione', 'Harry', 'Ron']\n",
    "print(students[0:3])"
   ]
  },
  {
   "cell_type": "code",
   "execution_count": 31,
   "id": "b534304f",
   "metadata": {},
   "outputs": [
    {
     "name": "stdout",
     "output_type": "stream",
     "text": [
      "Hermione\n",
      "Harry\n",
      "Ron\n"
     ]
    }
   ],
   "source": [
    "students = ['Hermione', 'Harry', 'Ron']\n",
    "for student in students:\n",
    "    print(student)"
   ]
  },
  {
   "cell_type": "code",
   "execution_count": 39,
   "id": "fb33027d",
   "metadata": {},
   "outputs": [
    {
     "name": "stdout",
     "output_type": "stream",
     "text": [
      "1 Hermione\n",
      "2 Harry\n",
      "3 Ron\n"
     ]
    }
   ],
   "source": [
    "# len \n",
    "students = ['Hermione', 'Harry', 'Ron']\n",
    "for i in range(len(students)):\n",
    "    print(i + 1, students[i])"
   ]
  },
  {
   "cell_type": "markdown",
   "id": "4847d96a",
   "metadata": {},
   "source": [
    "### Dictionary or dict"
   ]
  },
  {
   "cell_type": "code",
   "execution_count": 51,
   "id": "dc1d6a78",
   "metadata": {},
   "outputs": [
    {
     "name": "stdout",
     "output_type": "stream",
     "text": [
      "Gryffindor\n",
      "Hermione, Gryffindor\n",
      "Harry, Gryffindor\n",
      "Ron, Gryffindor\n",
      "Draco, Slytherin\n"
     ]
    }
   ],
   "source": [
    "# instead of list \n",
    "students = ['Hermione', 'Harry', 'Ron', 'Draco']\n",
    "houses = ['Gryffindor','Gryffindor','Gryffindor', 'Slytherin']\n",
    "# use dictionary with {}\n",
    "students = {'Hermione':'Gryffindor', \n",
    "            'Harry':'Gryffindor', \n",
    "            'Ron':'Gryffindor', \n",
    "            'Draco':'Slytherin'\n",
    "}\n",
    "print(students['Hermione'])\n",
    "\n",
    "for student in students: \n",
    "    print(student, students[student], sep=', ')"
   ]
  },
  {
   "cell_type": "code",
   "execution_count": 59,
   "id": "868ea5f6",
   "metadata": {},
   "outputs": [
    {
     "name": "stdout",
     "output_type": "stream",
     "text": [
      "Hermione, Gryffindor, Otter\n",
      "Harry, Gryffindor, Stag\n",
      "Draco, Slytherin, None\n"
     ]
    }
   ],
   "source": [
    "# use dictionary with {}\n",
    "students = [\n",
    "    {'name':'Hermione','house':'Gryffindor','patronus':'Otter'},\n",
    "    {'name':'Harry','house':'Gryffindor','patronus':'Stag'},\n",
    "    {'name':'Draco','house':'Slytherin','patronus': None}\n",
    "]\n",
    "\n",
    "for student in students: \n",
    "    print(student['name'], student['house'], student['patronus'], sep=', ')"
   ]
  },
  {
   "cell_type": "code",
   "execution_count": 63,
   "id": "365dc51b",
   "metadata": {},
   "outputs": [
    {
     "name": "stdout",
     "output_type": "stream",
     "text": [
      "$\n",
      "$\n",
      "$\n"
     ]
    }
   ],
   "source": [
    "for _ in range (3):\n",
    "    print('$')"
   ]
  },
  {
   "cell_type": "code",
   "execution_count": 62,
   "id": "4c33e11a",
   "metadata": {},
   "outputs": [
    {
     "name": "stdout",
     "output_type": "stream",
     "text": [
      "$\n",
      "$\n",
      "$\n"
     ]
    }
   ],
   "source": [
    "def main():\n",
    "    print_column(3)\n",
    "\n",
    "def print_column(height):\n",
    "    for _ in range(height):\n",
    "        print('$')\n",
    "main()"
   ]
  },
  {
   "cell_type": "code",
   "execution_count": 66,
   "id": "20163833",
   "metadata": {},
   "outputs": [
    {
     "name": "stdout",
     "output_type": "stream",
     "text": [
      "$$$\n"
     ]
    }
   ],
   "source": [
    "def main():\n",
    "    print_row(3)\n",
    "\n",
    "def print_row(width):\n",
    "    print('$' * width)\n",
    "main()"
   ]
  },
  {
   "cell_type": "code",
   "execution_count": 72,
   "id": "a0c14a2f",
   "metadata": {},
   "outputs": [
    {
     "name": "stdout",
     "output_type": "stream",
     "text": [
      "$$$$\n",
      "$$$$\n",
      "$$$$\n",
      "$$$$\n"
     ]
    }
   ],
   "source": [
    "def main():\n",
    "    print_square(4)\n",
    "\n",
    "def print_square(size):\n",
    "    for _ in range(size):\n",
    "        print('$' * size)\n",
    "main()"
   ]
  }
 ],
 "metadata": {
  "kernelspec": {
   "display_name": "Python 3 (ipykernel)",
   "language": "python",
   "name": "python3"
  },
  "language_info": {
   "codemirror_mode": {
    "name": "ipython",
    "version": 3
   },
   "file_extension": ".py",
   "mimetype": "text/x-python",
   "name": "python",
   "nbconvert_exporter": "python",
   "pygments_lexer": "ipython3",
   "version": "3.9.12"
  }
 },
 "nbformat": 4,
 "nbformat_minor": 5
}
